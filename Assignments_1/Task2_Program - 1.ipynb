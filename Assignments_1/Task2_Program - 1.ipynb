{
 "cells": [
  {
   "cell_type": "markdown",
   "metadata": {},
   "source": [
    "#### Program 5 - Write a program which accepts a sequence of comma-separated numbers from console and generate a list  "
   ]
  },
  {
   "cell_type": "code",
   "execution_count": 6,
   "metadata": {},
   "outputs": [
    {
     "name": "stdout",
     "output_type": "stream",
     "text": [
      "\n",
      "Enter your numbers (comma seperated)1,2,3,4\n",
      "\n",
      "Output:\n",
      "\n",
      "[1, 2, 3, 4]\n"
     ]
    }
   ],
   "source": [
    "num = input(\"\\nEnter your numbers (comma seperated)\")\n",
    "num_lst = []\n",
    "try:\n",
    "    num_lst = [int(n) for n in num.split(',')]\n",
    "except:\n",
    "    print(\"\\nYou have entered an invalid number\")\n",
    "    \n",
    "print(\"\\nOutput:\\n\")\n",
    "if not num_lst:\n",
    "    print(\"List empty\")\n",
    "else:\n",
    "    print(num_lst)"
   ]
  },
  {
   "cell_type": "code",
   "execution_count": 14,
   "metadata": {},
   "outputs": [],
   "source": []
  },
  {
   "cell_type": "code",
   "execution_count": null,
   "metadata": {},
   "outputs": [],
   "source": []
  },
  {
   "cell_type": "code",
   "execution_count": null,
   "metadata": {},
   "outputs": [],
   "source": []
  }
 ],
 "metadata": {
  "kernelspec": {
   "display_name": "Python 3",
   "language": "python",
   "name": "python3"
  },
  "language_info": {
   "codemirror_mode": {
    "name": "ipython",
    "version": 3
   },
   "file_extension": ".py",
   "mimetype": "text/x-python",
   "name": "python",
   "nbconvert_exporter": "python",
   "pygments_lexer": "ipython3",
   "version": "3.7.3"
  }
 },
 "nbformat": 4,
 "nbformat_minor": 2
}
