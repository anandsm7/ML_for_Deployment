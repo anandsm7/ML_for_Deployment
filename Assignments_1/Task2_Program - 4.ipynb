{
 "cells": [
  {
   "cell_type": "markdown",
   "metadata": {},
   "source": [
    "#### Program - 4 Write a Python Program to print the given string in the format specified in the ​sample output. \n",
    " WE, THE PEOPLE OF INDIA, having solemnly resolved to constitute India into a SOVEREIGN, SOCIALIST, SECULAR, DEMOCRATIC REPUBLIC and to secure to all its citizen"
   ]
  },
  {
   "cell_type": "code",
   "execution_count": 11,
   "metadata": {},
   "outputs": [
    {
     "name": "stdout",
     "output_type": "stream",
     "text": [
      "\n",
      "WE, THE PEOPLE OF INDIA,\n",
      "\t   having solemnly resolved to constitute India into a SOVEREIGN, !\n",
      "\t\t  SOCIALIST, SECULAR, DEMOCRATIC REPUBLIC\n",
      "\t\t    and to secure to all its citizen\n",
      "\n"
     ]
    }
   ],
   "source": [
    "print(\"\\nWE, THE PEOPLE OF INDIA,\\n\\t   having solemnly resolved to constitute India into a SOVEREIGN, !\\n\\t\\t  SOCIALIST, SECULAR, DEMOCRATIC REPUBLIC\\n\\t\\t    and to secure to all its citizen\\n\")"
   ]
  },
  {
   "cell_type": "code",
   "execution_count": null,
   "metadata": {},
   "outputs": [],
   "source": []
  },
  {
   "cell_type": "code",
   "execution_count": null,
   "metadata": {},
   "outputs": [],
   "source": []
  }
 ],
 "metadata": {
  "kernelspec": {
   "display_name": "Python 3",
   "language": "python",
   "name": "python3"
  },
  "language_info": {
   "codemirror_mode": {
    "name": "ipython",
    "version": 3
   },
   "file_extension": ".py",
   "mimetype": "text/x-python",
   "name": "python",
   "nbconvert_exporter": "python",
   "pygments_lexer": "ipython3",
   "version": "3.7.3"
  }
 },
 "nbformat": 4,
 "nbformat_minor": 2
}
